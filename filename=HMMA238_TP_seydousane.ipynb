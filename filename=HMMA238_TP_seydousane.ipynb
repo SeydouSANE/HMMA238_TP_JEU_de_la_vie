{
 "cells": [
  {
   "cell_type": "markdown",
   "metadata": {},
   "source": [
    "# TP no 1 : Jeu de la vie"
   ]
  },
  {
   "cell_type": "code",
   "execution_count": 34,
   "metadata": {},
   "outputs": [],
   "source": [
    "import numpy as np\n",
    "import matplotlib.pyplot as plt\n",
    "import time\n",
    "from matplotlib import animation, rc\n",
    "import warnings\n",
    "warnings.filterwarnings('ignore')\n",
    "from matplotlib import animation , rc\n",
    "from IPython.display import HTML"
   ]
  },
  {
   "cell_type": "raw",
   "metadata": {},
   "source": [
    "1) Création de la chaine de caractère filiname"
   ]
  },
  {
   "cell_type": "code",
   "execution_count": 6,
   "metadata": {
    "scrolled": true
   },
   "outputs": [],
   "source": [
    "filename='HMMA238_TP_seydousane'"
   ]
  },
  {
   "cell_type": "raw",
   "metadata": {},
   "source": [
    "2) Création de la variable taille_str"
   ]
  },
  {
   "cell_type": "code",
   "execution_count": 7,
   "metadata": {},
   "outputs": [
    {
     "name": "stdout",
     "output_type": "stream",
     "text": [
      "21\n"
     ]
    }
   ],
   "source": [
    "taille_str=len(filename)\n",
    "print(taille_str)"
   ]
  },
  {
   "cell_type": "raw",
   "metadata": {},
   "source": [
    "3) Création de la variable ma_graine"
   ]
  },
  {
   "cell_type": "code",
   "execution_count": 8,
   "metadata": {},
   "outputs": [
    {
     "name": "stdout",
     "output_type": "stream",
     "text": [
      "3\n"
     ]
    }
   ],
   "source": [
    "ma_graine= taille_str%6\n",
    "print(ma_graine)"
   ]
  },
  {
   "cell_type": "code",
   "execution_count": 9,
   "metadata": {},
   "outputs": [],
   "source": [
    "def calcul_nb_voisins(Z):\n",
    "    forme = len(Z), len(Z[0]) \n",
    "    N = [[0, ] * (forme[0]) for i in range(forme[1])]\n",
    "    for x in range(1, forme[0] - 1):\n",
    "        for y in range(1, forme[1] - 1):\n",
    "            N[x][y] = Z[x-1][y-1]+Z[x][y-1]+Z[x+1][y-1]\\\n",
    "                    + Z[x-1][y] + 0 +Z[x+1][y]\\\n",
    "                    + Z[x-1][y+1]+Z[x][y+1]+Z[x+1][y+1]\n",
    "    return N \n",
    "\n"
   ]
  },
  {
   "cell_type": "raw",
   "metadata": {},
   "source": [
    "4) La sortie N=calcul_nb_voisins(Z) est la liste constituée du nombre de voisins vivants de chaque cellule de Z.\n",
    "Ici chaque cellule de Z est remplacée par son nombre de vonsins vivants sauf les cellules du pourtour qui elles, restent intact."
   ]
  },
  {
   "cell_type": "code",
   "execution_count": 10,
   "metadata": {},
   "outputs": [
    {
     "name": "stdout",
     "output_type": "stream",
     "text": [
      "[[0, 0, 0, 0, 0, 0], [0, 1, 3, 1, 2, 0], [0, 1, 5, 3, 3, 0], [0, 2, 3, 2, 2, 0], [0, 1, 2, 2, 1, 0], [0, 0, 0, 0, 0, 0]]\n"
     ]
    }
   ],
   "source": [
    "Z = [[0,0,0,0,0,0],\n",
    "     [0,0,0,1,0,0],\n",
    "     [0,1,0,1,0,0],\n",
    "     [0,0,1,1,0,0],\n",
    "     [0,0,0,0,0,0],\n",
    "     [0,0,0,0,0,0]]\n",
    "N=calcul_nb_voisins(Z)\n",
    "print(N)          "
   ]
  },
  {
   "cell_type": "code",
   "execution_count": 11,
   "metadata": {},
   "outputs": [],
   "source": [
    "def iteration_jeu(Z):\n",
    "    forme = len(Z), len(Z[0])\n",
    "    N = calcul_nb_voisins(Z)\n",
    "    for x in range(1,forme[0]-1):\n",
    "        for y in range(1,forme[1]-1):\n",
    "            if Z[x][y] == 1 and (N[x][y] < 2 or N[x][y] > 3):\n",
    "                Z[x][y] = 0\n",
    "            elif Z[x][y] == 0 and N[x][y] == 3:\n",
    "                Z[x][y] = 1\n",
    "    return Z"
   ]
  },
  {
   "cell_type": "raw",
   "metadata": {},
   "source": [
    "5) Affichage des étapes du jeu de 0 à 9 itérations, en utilisant une boucle for."
   ]
  },
  {
   "cell_type": "code",
   "execution_count": 12,
   "metadata": {
    "scrolled": true
   },
   "outputs": [
    {
     "data": {
      "image/png": "[encoded data removed]",
      "text/plain": [
       "<Figure size 1080x720 with 10 Axes>"
      ]
     },
     "metadata": {
      "needs_background": "light"
     },
     "output_type": "display_data"
    }
   ],
   "source": [
    "Z = [[0,0,0,0,0,0],\n",
    "     [0,0,0,1,0,0],\n",
    "     [0,1,0,1,0,0],\n",
    "     [0,0,1,1,0,0],\n",
    "     [0,0,0,0,0,0],\n",
    "     [0,0,0,0,0,0]]\n",
    "plt.subplots(figsize=(15,10))\n",
    "for i in range(10):\n",
    "    axs=plt.subplot(2,5,i+1)\n",
    "    plt.imshow(Z,cmap=\"binary\", extent=[0,len(Z[0]),0,len(Z)],)\n",
    "    plt.grid(True)\n",
    "    axs.set_xticks(range(0,len(Z[0]),1),)\n",
    "    plt.title('Itération'+str(i))\n",
    "    Z=iteration_jeu(Z)\n",
    "plt.show()\n",
    "   \n"
   ]
  },
  {
   "cell_type": "raw",
   "metadata": {},
   "source": [
    "6) Entre entre l'itération 0 et l'itération 4 on remarque que le nombre de cellules vivantes reste le même"
   ]
  },
  {
   "cell_type": "raw",
   "metadata": {},
   "source": [
    "7) Le vecteur ci-dessous exprime exprime le nombre de voisins vivants de chaque cellule du vecteur vect excépter du bord  \n",
    "   qui doivent rester inactives."
   ]
  },
  {
   "cell_type": "code",
   "execution_count": 13,
   "metadata": {},
   "outputs": [
    {
     "name": "stdout",
     "output_type": "stream",
     "text": [
      "[0. 0. 1. 1. 1. 0.]\n"
     ]
    }
   ],
   "source": [
    "vect= np.array([0,1,0,0,1,1])\n",
    "nb_vect= np.zeros(vect.shape)   \n",
    "nb_vect[1:-1]+=(vect[:-2]+vect[2:])\n",
    "print(nb_vect)"
   ]
  },
  {
   "cell_type": "raw",
   "metadata": {},
   "source": [
    "8) Création une fonction calcul_nb_voisins_np sur les array"
   ]
  },
  {
   "cell_type": "code",
   "execution_count": 17,
   "metadata": {},
   "outputs": [
    {
     "data": {
      "text/plain": [
       "array([[0., 0., 0., 0., 0., 0.],\n",
       "       [0., 0., 0., 0., 0., 0.],\n",
       "       [0., 0., 1., 2., 2., 0.],\n",
       "       [0., 0., 2., 3., 3., 0.],\n",
       "       [0., 0., 2., 3., 3., 0.],\n",
       "       [0., 0., 0., 0., 0., 0.]])"
      ]
     },
     "execution_count": 17,
     "metadata": {},
     "output_type": "execute_result"
    }
   ],
   "source": [
    "Z=np.asarray(Z)\n",
    "def calcul_nb_voisins_np(Z) :\n",
    "    N = np.zeros(Z.shape)   \n",
    "    N[1:-1,1:-1]=Z[0:-2,0:-2]+Z[:-2,2:]+Z[2:,:-2]+Z[:-2,1:-1]+\\\n",
    "                 Z[1:-1,2:]+Z[1:-1,:-2]+Z[2:,1:-1]+Z[2:,2:]\n",
    "    return N \n",
    "calcul_nb_voisins_np(Z)"
   ]
  },
  {
   "cell_type": "raw",
   "metadata": {},
   "source": [
    "9) ) Création d'une fonction iteration_jeu_np"
   ]
  },
  {
   "cell_type": "code",
   "execution_count": 21,
   "metadata": {},
   "outputs": [
    {
     "data": {
      "text/plain": [
       "array([[0, 0, 0, 0, 0, 0],\n",
       "       [0, 0, 0, 0, 0, 0],\n",
       "       [0, 0, 0, 0, 0, 0],\n",
       "       [0, 0, 0, 1, 1, 0],\n",
       "       [0, 0, 0, 1, 1, 0],\n",
       "       [0, 0, 0, 0, 0, 0]])"
      ]
     },
     "execution_count": 21,
     "metadata": {},
     "output_type": "execute_result"
    }
   ],
   "source": [
    "def iteration_jeu_np(Z):\n",
    "  Z=np.array(Z)\n",
    "  N=calcul_nb_voisins_np(Z)\n",
    "  Z[np.where((Z==1)&((N==1)|(N>3)))]=0\n",
    "  Z[np.where((Z==0)&(N==3))]=1\n",
    "  return Z\n",
    "iteration_jeu_np(Z)"
   ]
  },
  {
   "cell_type": "raw",
   "metadata": {},
   "source": [
    "10)  Création de la fonction jeu_np"
   ]
  },
  {
   "cell_type": "code",
   "execution_count": 38,
   "metadata": {},
   "outputs": [],
   "source": [
    "def jeu_np(Z_in, nb_iter):\n",
    "    while nb_iter !=0:\n",
    "        Z_int=iteration_jeu_np(Z_in)\n",
    "        nb_iter=nb_iter-1\n",
    "        return Z_in"
   ]
  },
  {
   "cell_type": "raw",
   "metadata": {},
   "source": [
    "11) Affichage film"
   ]
  },
  {
   "cell_type": "code",
   "execution_count": 10,
   "metadata": {},
   "outputs": [],
   "source": [
    "Z_huge = np.zeros((100, 100))\n",
    "Z_np = np.array(\n",
    "    [[0, 0, 0, 0, 0, 0],\n",
    "     [0, 0, 0, 1, 0, 0],\n",
    "     [0, 1, 0, 1, 0, 0],\n",
    "     [0, 0, 1, 1, 0, 0],\n",
    "     [0, 0, 0, 0, 0, 0],\n",
    "     [0, 0, 0, 0, 0, 0]])\n",
    "Z_huge[10:16, 10:16] = Z_np"
   ]
  }
 ],
 "metadata": {
  "kernelspec": {
   "display_name": "Python 3",
   "language": "python",
   "name": "python3"
  },
  "language_info": {
   "codemirror_mode": {
    "name": "ipython",
    "version": 3
   },
   "file_extension": ".py",
   "mimetype": "text/x-python",
   "name": "python",
   "nbconvert_exporter": "python",
   "pygments_lexer": "ipython3",
   "version": "3.7.4"
  }
 },
 "nbformat": 4,
 "nbformat_minor": 2
}
